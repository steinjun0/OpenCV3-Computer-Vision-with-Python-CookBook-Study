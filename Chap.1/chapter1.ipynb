{
 "cells": [
  {
   "cell_type": "markdown",
   "metadata": {},
   "source": [
    "# 본 파일은 [파이썬과 OpenCV를 이용한 컴퓨터 비전 학습]을 참고하였습니다  \n",
    "\n",
    "# 20.07.02~"
   ]
  },
  {
   "cell_type": "code",
   "execution_count": 1,
   "metadata": {},
   "outputs": [],
   "source": [
    "from cv2 import cv2\n",
    "import numpy as np\n",
    "import matplotlib.pyplot as plt\n",
    "import random"
   ]
  },
  {
   "cell_type": "markdown",
   "metadata": {},
   "source": [
    "## 1장 입출력과 GUI"
   ]
  },
  {
   "cell_type": "code",
   "execution_count": null,
   "metadata": {},
   "outputs": [],
   "source": [
    "def getCamera():\n",
    "    cap = cv2.VideoCapture(0)   # 0: default camera\n",
    "    #cap = cv2.VideoCapture(\"test.mp4\") #동영상 파일에서 읽기\n",
    "    \n",
    "    while cap.isOpened():\n",
    "        # 카메라 프레임 읽기\n",
    "        success, frame = cap.read()\n",
    "        if success:\n",
    "            # 프레임 출력\n",
    "            cv2.imshow('Camera Window', frame)\n",
    "    \n",
    "            # ESC를 누르면 종료\n",
    "            key = cv2.waitKey(1) & 0xFF\n",
    "            if (key == 27): \n",
    "                break\n",
    "    \n",
    "    cap.release()\n",
    "    cv2.destroyAllWindows()"
   ]
  },
  {
   "cell_type": "code",
   "execution_count": null,
   "metadata": {},
   "outputs": [],
   "source": [
    "def showImage():\n",
    "    imgfile = 'test1.jpg'\n",
    "    img = cv2.imread(imgfile, cv2.IMREAD_GRAYSCALE)\n",
    "    \n",
    "    plt.imshow(img, cmap='gray', interpolation='bicubic')\n",
    "    plt.xticks([])\n",
    "    plt.yticks([])\n",
    "    plt.title('model')\n",
    "    plt.show()"
   ]
  },
  {
   "cell_type": "code",
   "execution_count": 8,
   "metadata": {},
   "outputs": [],
   "source": [
    "def readImage():\n",
    "    img = cv2.imread('test1.jpg')\n",
    "\n",
    "    cv2.namedWindow(\"Test Image\", cv2.WINDOW_NORMAL)\n",
    "    cv2.imshow('Test Image', img)\n",
    "    cv2.waitKey(0)\n",
    "\n",
    "    cv2.destroyAllWindows()"
   ]
  },
  {
   "cell_type": "code",
   "execution_count": 7,
   "metadata": {},
   "outputs": [
    {
     "output_type": "error",
     "ename": "SyntaxError",
     "evalue": "invalid syntax (<ipython-input-7-a5ae12777355>, line 3)",
     "traceback": [
      "\u001b[1;36m  File \u001b[1;32m\"<ipython-input-7-a5ae12777355>\"\u001b[1;36m, line \u001b[1;32m3\u001b[0m\n\u001b[1;33m    f drawing():\u001b[0m\n\u001b[1;37m            ^\u001b[0m\n\u001b[1;31mSyntaxError\u001b[0m\u001b[1;31m:\u001b[0m invalid syntax\n"
     ]
    }
   ],
   "source": [
    "def drawing():\n",
    "    img = np.zeros((512, 512, 3), np.uint8)\n",
    "f drawing():\n",
    "    img = np.zeros((512, 512, 3), np.uint8)\n",
    "    cv2.line(img, (0,0), (511, 511), (255, 0, 0), 5)                    # 왜인지..?는 모르겠으나 RGB가 아니라 BGR 순서다 -> opencv가 전통적으로 bgr을 쓴다는듯,\n",
    "                                                                        # matplot을 쓸때는 image[:, :, [2,1,0]]으로 순서를 바꿔서 사용해야 한다\n",
    "    cv2.rectangle(img, (384,0), (510, 128), (0, 255, 0), 3)             # (rectangle을 그릴 이미지, 좌상단 좌표, 우하단 좌표, 색, 두께(-1은 채우기))\n",
    "    cv2.circle(img, (447, 63), 63, (0, 0, 255), -1)                     # (circle을 그릴 이미지, 중심 좌표, 반지름, 색, 두께(-1은 채우기))\n",
    "    cv2.ellipse(img, (256, 256), (100, 50), 0, 0, 180, (255, 0, 0), -1) # (ellipse를 그릴 이미지, 중심 좌표, (반지름1, 반지름2),회전각,\n",
    "                                                                        # 호의 시작각도, 호의 끝각도, 색, 두께(-1은 채우기))\n",
    "                                                                        # 3시 방향이 0도, 6시방향이 +90도 (시계 방향 회전)\n",
    "\n",
    "    font = cv2.FONT_HERSHEY_SIMPLEX\n",
    "    cv2.putText(img, 'OpenCV', (10, 500), font, 4, (255, 0, 0), 2)\n",
    "\n",
    "    cv2.imshow('drawing', img)\n",
    "    cv2.waitKey(0)\n",
    "    cv2.destroyAllWindows()\n",
    "drawing()"
   ]
  },
  {
   "cell_type": "code",
   "execution_count": 6,
   "metadata": {},
   "outputs": [],
   "source": [
    "def window_cv():\n",
    "    cv2. namedWindow('window')\n",
    "    fill_val = np.array([255,255,255], np.uint8)\n",
    "\n",
    "    def trackbar_callback(idx, value):\n",
    "        fill_val[idx] = value\n",
    "    v=0\n",
    "    cv2.createTrackbar('R', 'window', 255, 255, lambda v: trackbar_callback(2, v)) # v를 사용함과 동시에 함수에 대입도 하기 위해서\n",
    "    cv2.createTrackbar('G', 'window', 255, 255, lambda v: trackbar_callback(1, v)) # lambda 사용.\n",
    "    cv2.createTrackbar('B', 'window', 255, 255, lambda v: trackbar_callback(0, v)) # 애초에 5번째 인자는 on_change라서 함수가 들어가야함\n",
    "                                                                                   # call back을 사용하란 말. (Called at the back)\n",
    "                                                                                   # call back을 안쓰면 'on_change must be callable'\n",
    "                                                                                   # 라는 에러를 띄운다\n",
    "    while True:\n",
    "        image = np.full((500, 500, 3), fill_val)\n",
    "        cv2.imshow('window', image)\n",
    "        key = cv2.waitKey(3)\n",
    "        if key == 27:\n",
    "            break\n",
    "    cv2.destroyAllWindows()"
   ]
  },
  {
   "cell_type": "code",
   "execution_count": 32,
   "metadata": {},
   "outputs": [],
   "source": [
    "def drawing2():\n",
    "    image = cv2.imread(\"chaewon.jpg\")\n",
    "    w, h = image.shape[1], image.shape[0] #img에는 shape라는 멤버가 있고, 여기에 행개수, 열개수 정보가 저장됨\n",
    "\n",
    "    def rand_pt(mult=1.):\n",
    "        return (random.randrange(int(w*mult)), random.randrange(int(h*mult))) # 왜 float으로 바꿨다가 int로 다시 변환하는지 모르겠다...\n",
    "                                                                              # 나중에 nult의 값을 바꾸면 randrange의 값이 바뀌긴한다\n",
    "                                                                              # ---> 뒤쪽 코드에서 사용한다\n",
    "                                                                              # randrange(x) 숫자 발생 범위 => 0 <= y < x 의 [정수] 반환 \n",
    "    cv2.circle(image, rand_pt(), 40, (255, 0, 0))                             # RGB의 역순이다 BGR\n",
    "    cv2.circle(image, rand_pt(), 40, (255, 0, 0), cv2.FILLED)\n",
    "    cv2.circle(image, rand_pt(), 40, (255, 85, 85), 2)\n",
    "    cv2.circle(image, rand_pt(), 40, (255, 170, 170), 2, cv2.LINE_AA) # alias가 없는 경계를 지정(선이 부드럽다)\n",
    "\n",
    "    cv2.line(image, rand_pt(), rand_pt(), (0, 255, 0))\n",
    "    cv2.line(image, rand_pt(), rand_pt(), (85, 255, 85), 3)\n",
    "    cv2.line(image, rand_pt(), rand_pt(), (170, 255, 170), 3, cv2.LINE_AA) # alias가 없는 경계를 지정(선이 부드럽다)\n",
    "\n",
    "    cv2.arrowedLine(image, rand_pt(), rand_pt(), (0, 0 ,255), 3, cv2.LINE_AA)\n",
    "    \n",
    "    cv2.rectangle(image, rand_pt(), rand_pt(), (255, 255, 0), 3)\n",
    "    cv2.rectangle(image, rand_pt(), rand_pt(), (255, 100, 100), cv2.FILLED)\n",
    "\n",
    "    cv2.ellipse(image, rand_pt(), rand_pt(0.3), random.randrange(360), 0, 360, (255,255,255), 3)\n",
    "\n",
    "    cv2.putText(image, 'OpenCV', rand_pt(), cv2.FONT_HERSHEY_SIMPLEX, 2, (10, 10, 10), 3) # 좌하단 위치가 좌표다. \n",
    "                                                                                          # cv2.FONT_HERSHEY_SIMPLEX 이건 폰트명이다\n",
    "                                                                                          # 폰트 다음 인자는 배율이다.(pt단위가 아님. 엄청 큼)\n",
    "                                                                                          # 마지막 인자가 두께다\n",
    "\n",
    "    cv2.namedWindow('drawing2', cv2.WINDOW_NORMAL)\n",
    "    image = cv2.resize(image, (int(w/2), int(h/2)))\n",
    "    cv2.imshow('drawing2', image)\n",
    "    cv2.waitKey(0)\n",
    "    cv2.destroyAllWindows()\n",
    "drawing2()"
   ]
  },
  {
   "cell_type": "code",
   "execution_count": 2,
   "metadata": {},
   "outputs": [],
   "source": [
    "def keyboardOperation():\n",
    "    image = cv2.imread('chaewon.jpg')\n",
    "    w, h = image.shape[1], image.shape[0]\n",
    "    image_to_show = np.copy(image)\n",
    "\n",
    "    def rand_pt():\n",
    "        return (random.randrange(w), random.randrange(h))\n",
    "    while True:\n",
    "        key = cv2.waitKey(0)\n",
    "        if key == ord('p'):                             # ord 함수: 문자 -> 아스키코드값 / chr 함수: 아스키코드값 -> 문자\n",
    "            for pt in [rand_pt() for _ in range(10)]:   # list다 list. list안의 멤버들을 for문을 활용하여 채워 넣고 그걸로 for문을 돌린다\n",
    "                                                        # list for문. [표현식 for 항목 in 리스트/튜플 if 조건문]\n",
    "                                                        # 지금은 항목을 사용하지 않기 때문에 _(언더스코어)로 값을 무시하고있다\n",
    "                cv2.circle(image_to_show, pt, 3, (255,0,0), -1)\n",
    "        elif key == ord('l'):\n",
    "            cv2.line(image_to_show, rand_pt(), rand_pt(), (255, 175, 200), 5)\n",
    "        elif key == ord('r'):\n",
    "            cv2.rectangle(image_to_show, rand_pt(), rand_pt(), (255,0,0), cv2.FILLED)\n",
    "        elif key == ord('e'):\n",
    "            cv2.ellipse(image_to_show, rand_pt(), rand_pt(), random.randrange(360), 0, 360, (255,255,0), 5)\n",
    "        elif key == ord('t'):\n",
    "            cv2.putText(image_to_show, \"OpenCV\", rand_pt(), cv2.FONT_HERSHEY_SIMPLEX, 1, (10, 10, 10), 3)\n",
    "        elif key == ord('c'):\n",
    "            image_to_show = np.copy(image)\n",
    "        elif key == 27:\n",
    "            break\n",
    "        cv2.imshow('keyboard Operation', image_to_show)\n",
    "    cv2.destroyAllWindows()\n",
    "keyboardOperation()"
   ]
  },
  {
   "cell_type": "code",
   "execution_count": 46,
   "metadata": {
    "tags": []
   },
   "outputs": [
    {
     "output_type": "stream",
     "name": "stdout",
     "text": "(176, 76) (176, 76)\n(176, 76) (176, 77)\n(176, 76) (176, 80)\n(176, 76) (178, 82)\n(176, 76) (180, 84)\n(176, 76) (184, 88)\n(176, 76) (189, 93)\n(176, 76) (197, 100)\n(176, 76) (204, 106)\n(176, 76) (212, 112)\n(176, 76) (223, 122)\n(176, 76) (234, 131)\n(176, 76) (243, 139)\n(176, 76) (255, 150)\n(176, 76) (267, 162)\n(176, 76) (276, 172)\n(176, 76) (286, 182)\n(176, 76) (299, 197)\n(176, 76) (309, 210)\n(176, 76) (320, 224)\n(176, 76) (331, 235)\n(176, 76) (342, 249)\n(176, 76) (350, 258)\n(176, 76) (359, 269)\n(176, 76) (369, 280)\n(176, 76) (375, 288)\n(176, 76) (382, 297)\n(176, 76) (387, 304)\n(176, 76) (392, 309)\n(176, 76) (397, 316)\n(176, 76) (402, 323)\n(176, 76) (408, 329)\n(176, 76) (412, 336)\n(176, 76) (418, 343)\n(176, 76) (423, 350)\n(176, 76) (430, 358)\n(176, 76) (438, 367)\n(176, 76) (448, 378)\n(176, 76) (455, 387)\n(176, 76) (464, 400)\n(176, 76) (472, 409)\n(176, 76) (478, 416)\n(176, 76) (483, 423)\n(176, 76) (488, 430)\n(176, 76) (491, 435)\n(176, 76) (494, 439)\n(176, 76) (498, 443)\n(176, 76) (500, 446)\n(176, 76) (502, 449)\n(176, 76) (504, 451)\n(176, 76) (505, 452)\n(176, 76) (509, 454)\n(176, 76) (510, 456)\n(176, 76) (512, 457)\n(176, 76) (514, 459)\n(176, 76) (516, 460)\n(176, 76) (517, 461)\n(176, 76) (519, 463)\n(176, 76) (519, 463)\n(176, 76) (520, 464)\n(176, 76) (521, 465)\n(176, 76) (522, 466)\n(176, 76) (523, 467)\n(176, 76) (524, 468)\n(176, 76) (525, 469)\n(176, 76) (528, 470)\n(176, 76) (530, 472)\n(176, 76) (534, 475)\n(176, 76) (537, 476)\n(176, 76) (539, 477)\n(176, 76) (541, 478)\n(176, 76) (544, 479)\n(176, 76) (545, 479)\n(176, 76) (547, 480)\n(176, 76) (548, 480)\n(176, 76) (549, 480)\n(176, 76) (550, 481)\n(176, 76) (551, 481)\n(176, 76) (552, 481)\n(176, 76) (553, 481)\n(176, 76) (554, 482)\n(176, 76) (555, 482)\n(176, 76) (555, 483)\n(176, 76) (556, 483)\n(176, 76) (556, 483)\n(176, 76) (557, 484)\n(176, 76) (557, 484)\n(176, 76) (557, 485)\n(176, 76) (557, 485)\n(176, 76) (557, 486)\n(176, 76) (557, 486)\n(176, 76) (557, 487)\n(176, 76) (557, 487)\n(176, 76) (557, 488)\n(176, 76) (557, 489)\n(176, 76) (557, 489)\n(176, 76) (557, 490)\n(176, 76) (557, 491)\n(176, 76) (557, 492)\n(176, 76) (557, 493)\n(176, 76) (557, 495)\n(176, 76) (557, 496)\n(176, 76) (557, 497)\n(176, 76) (557, 498)\n(176, 76) (557, 499)\n(176, 76) (557, 500)\n(176, 76) (558, 500)\n(176, 76) (558, 501)\n(176, 76) (558, 501)\n(176, 76) (558, 502)\n(176, 76) (558, 503)\n(176, 76) (558, 504)\n(176, 76) (558, 505)\n(176, 76) (558, 505)\n(176, 76) (559, 507)\n(176, 76) (559, 508)\n(176, 76) (559, 509)\n(176, 76) (560, 511)\n(176, 76) (560, 512)\n(176, 76) (561, 513)\n(176, 76) (561, 513)\n(176, 76) (562, 514)\n(176, 76) (562, 515)\n(176, 76) (563, 516)\n(176, 76) (564, 517)\n"
    }
   ],
   "source": [
    "def mouse_operation():\n",
    "    global image, image_to_show             # 본 코드는 각각의 기능을 함수로 묶었기 때문에 이곳에서 변수선언은 함수 내부의 변수(지역 변수)이기에\n",
    "    global s_x, s_y, e_x, e_y               # 책의 코드처럼 사용하기 위해서는(def mouse_callback에서 global 변수 공유) 이곳에도 global 선언을 해주어야 한다\n",
    "    image = cv2.imread('minguri.jpg')\n",
    "    image_to_show = np.copy(image)\n",
    "\n",
    "    mouse_pressed = False\n",
    "    s_x = s_y = e_x = e_y = -1\n",
    "\n",
    "    def mouse_callback(event, x, y, flags, param):\n",
    "        global image_to_show, s_x, s_y, e_x, e_y, mouse_pressed\n",
    "        \n",
    "        if event == cv2.EVENT_LBUTTONDOWN:\n",
    "            mouse_pressed = True\n",
    "            s_x, s_y = x, y\n",
    "            image_to_show = np.copy(image)\n",
    "            \n",
    "\n",
    "        elif event == cv2.EVENT_MOUSEMOVE:\n",
    "            if mouse_pressed == True:\n",
    "                print((s_x, s_y), (x, y))\n",
    "                image_to_show = np.copy(image)\n",
    "                cv2.rectangle(image_to_show, (s_x, s_y), (x, y), (0, 255, 0), 4)\n",
    "        elif event == cv2.EVENT_LBUTTONUP:\n",
    "            mouse_pressed = False\n",
    "            e_x, e_y = x, y\n",
    "    cv2.namedWindow('Mouse Operation')\n",
    "    cv2.setMouseCallback('Mouse Operation', mouse_callback)\n",
    "\n",
    "    while True:\n",
    "        cv2.imshow('Mouse Operation', image_to_show)\n",
    "        k = cv2.waitKey(1)\n",
    "\n",
    "        if k == ord('c'):\n",
    "            print(e_y, s_y ,e_x, s_x)\n",
    "            if s_y > e_y:\n",
    "                s_y, e_y = e_y, s_y\n",
    "            if s_x > e_x:\n",
    "                s_x, e_x = e_x, s_x\n",
    "            \n",
    "            if e_y - s_y > 1 and e_x - s_x > 0:\n",
    "                image = image[s_y:e_y, s_x:e_x]\n",
    "                image_to_show = np.copy(image)\n",
    "                print(\"CCCCCCCCCCCCCCCCCCCCCC\")\n",
    "        elif k == 27:\n",
    "            break\n",
    "    cv2.destroyAllWindows()\n",
    "\n",
    "mouse_operation()"
   ]
  },
  {
   "cell_type": "code",
   "execution_count": 10,
   "metadata": {
    "tags": []
   },
   "outputs": [
    {
     "output_type": "stream",
     "name": "stdout",
     "text": "640 480\nPressed Esc\n"
    }
   ],
   "source": [
    "\n",
    "capture = cv2.VideoCapture(0)\n",
    "frame_width = int(capture.get(cv2.CAP_PROP_FRAME_WIDTH))\n",
    "frame_height = int(capture.get(cv2.CAP_PROP_FRAME_HEIGHT))\n",
    "print(frame_width, frame_height)\n",
    "video = cv2.VideoWriter('captured_video.mp4', cv2.VideoWriter_fourcc(*'XVID'), 25, (frame_width, frame_height))\n",
    "while True:\n",
    "    has_frame, frame = capture.read()\n",
    "    if not has_frame:\n",
    "        print('Cant\\'t get frame')\n",
    "        break\n",
    "    \n",
    "    video.write(frame)\n",
    "    cv2.imshow('frame', frame)\n",
    "    \n",
    "    \n",
    "    key = cv2.waitKey(3)\n",
    "    if key == 27:\n",
    "        print('Pressed Esc')\n",
    "        break\n",
    "capture.release()\n",
    "video.release()\n",
    "cv2.destroyAllWindows()\n"
   ]
  },
  {
   "cell_type": "markdown",
   "metadata": {},
   "source": [
    "### 0702 1강 종료"
   ]
  }
 ],
 "metadata": {
  "kernelspec": {
   "display_name": "Python 3",
   "language": "python",
   "name": "python3"
  },
  "language_info": {
   "codemirror_mode": {
    "name": "ipython",
    "version": 3
   },
   "file_extension": ".py",
   "mimetype": "text/x-python",
   "name": "python",
   "nbconvert_exporter": "python",
   "pygments_lexer": "ipython3",
   "version": "3.6.4-final"
  }
 },
 "nbformat": 4,
 "nbformat_minor": 2
}